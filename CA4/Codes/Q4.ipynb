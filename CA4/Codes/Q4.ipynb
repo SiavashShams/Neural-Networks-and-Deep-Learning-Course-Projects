{
 "cells": [
  {
   "cell_type": "code",
   "execution_count": 1,
   "metadata": {
    "collapsed": true
   },
   "outputs": [],
   "source": [
    "import numpy as np\n"
   ]
  },
  {
   "cell_type": "markdown",
   "source": [
    "Part 1\n"
   ],
   "metadata": {
    "collapsed": false,
    "pycharm": {
     "name": "#%% md\n"
    }
   }
  },
  {
   "cell_type": "code",
   "execution_count": 2,
   "outputs": [
    {
     "data": {
      "text/plain": "<Figure size 432x288 with 2 Axes>",
      "image/png": "[encoded data removed]"
     },
     "metadata": {
      "needs_background": "light"
     },
     "output_type": "display_data"
    }
   ],
   "source": [
    "import numpy as np\n",
    "import matplotlib.pyplot as plt\n",
    "import seaborn as sns\n",
    "p1 = np.array([1, -1, 1, -1, 1, -1, -1, 1, -1, 1, -1, 1])\n",
    "p2 = np.array([1, -1, 1, -1, 1, -1, -1, 1, -1, -1, 1, -1])\n",
    "p3 = np.array([-1, 1, -1, 1, -1, 1, 1, 1, 1, 1, -1, 1])\n",
    "p4 = np.array([-1, 1, 1, 1, -1, -1, 1, -1, -1, -1, 1, 1])\n",
    "ham = np.zeros(shape=(4, 4))\n",
    "for i, p in enumerate([p1, p2, p3, p4]):\n",
    "    for j, pp in enumerate([p1, p2, p3, p4]):\n",
    "        ham[i, j] = 12-np.sum(p==pp)\n",
    "sns.heatmap(ham,xticklabels=[\"X\",\"Y\",\"A\",\"C\"],yticklabels=[\"X\",\"Y\",\"A\",\"C\"],cmap=\"Blues\",annot=True)\n",
    "plt.title(\"Hamming distance between vectors\")\n",
    "plt.show()"
   ],
   "metadata": {
    "collapsed": false,
    "pycharm": {
     "name": "#%%\n"
    }
   }
  },
  {
   "cell_type": "markdown",
   "source": [
    "Part 2"
   ],
   "metadata": {
    "collapsed": false
   }
  },
  {
   "cell_type": "code",
   "execution_count": 3,
   "outputs": [
    {
     "name": "stdout",
     "output_type": "stream",
     "text": [
      "[ 8. 11.  2.  6.]\n"
     ]
    },
    {
     "data": {
      "text/plain": "<Figure size 288x144 with 1 Axes>",
      "image/png": "[encoded data removed]"
     },
     "metadata": {
      "needs_background": "light"
     },
     "output_type": "display_data"
    }
   ],
   "source": [
    "w = np.array([[np.multiply(p1,0.5)],[np.multiply(p2,0.5)],[np.multiply(p3,0.5)],[np.multiply(p4,0.5)]])\n",
    "w = np.squeeze(w).T\n",
    "inp = [1,1,1,-1,1,-1,-1,1,-1,-1,1,-1]\n",
    "z= inp@w+6\n",
    "print(z)\n",
    "plt.figure(figsize=(4,2))\n",
    "plt.table(w,loc='best')\n",
    "plt.tight_layout()\n",
    "plt.axis(\"off\")\n",
    "plt.show()"
   ],
   "metadata": {
    "collapsed": false,
    "pycharm": {
     "name": "#%%\n"
    }
   }
  },
  {
   "cell_type": "code",
   "execution_count": 4,
   "outputs": [
    {
     "name": "stdout",
     "output_type": "stream",
     "text": [
      "epoch 1 : [ 8. 11.  2.  6.]\n",
      "epoch 2 : [ 5.15  8.6  -1.75  2.85]\n",
      "epoch 3 : [ 3.4325  7.4    -2.49    0.7875]\n",
      "epoch 4 : [ 2.204375  6.767    -1.743    -0.837375]\n",
      "epoch 5 : [ 1.189325    6.43634375 -1.34570625 -1.34570625]\n",
      "epoch 6 : [ 0.22387344  6.257945   -1.14385031 -1.14385031]\n",
      "epoch 7 : [-0.71481831  6.22436398 -0.97227277 -0.97227277]\n",
      "maximum found in unit :  2\n"
     ]
    }
   ],
   "source": [
    "def MaxNet(x):\n",
    "    epoch = 0\n",
    "    m = 4\n",
    "    eps = 0.15\n",
    "    while True:\n",
    "        epoch += 1\n",
    "        y_out = []\n",
    "        for i in range(0, m):\n",
    "            if x[i] >= 0:\n",
    "                y_out.append(x[i])\n",
    "            else:\n",
    "                y_out.append(0)\n",
    "        print(\"epoch\",epoch,\":\",x)\n",
    "        if sum(np.array(y_out)>0) == 1:\n",
    "            print('maximum found in unit : ', np.squeeze(np.where(np.array(y_out)>0)[0])+1)\n",
    "            break\n",
    "        for i in range(0, m):\n",
    "            x[i] = y_out[i] - (sum(y_out) - y_out[i]) * eps\n",
    "        if epoch == 100:\n",
    "            break\n",
    "MaxNet(z)\n"
   ],
   "metadata": {
    "collapsed": false,
    "pycharm": {
     "name": "#%%\n"
    }
   }
  }
 ],
 "metadata": {
  "kernelspec": {
   "name": "pycharm-95cbb129",
   "language": "python",
   "display_name": "PyCharm (IS_HW5)"
  },
  "language_info": {
   "codemirror_mode": {
    "name": "ipython",
    "version": 2
   },
   "file_extension": ".py",
   "mimetype": "text/x-python",
   "name": "python",
   "nbconvert_exporter": "python",
   "pygments_lexer": "ipython2",
   "version": "2.7.6"
  }
 },
 "nbformat": 4,
 "nbformat_minor": 0
}