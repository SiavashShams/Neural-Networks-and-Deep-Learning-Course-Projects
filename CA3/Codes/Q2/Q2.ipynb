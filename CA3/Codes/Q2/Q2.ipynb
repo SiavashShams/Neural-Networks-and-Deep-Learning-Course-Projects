{
  "nbformat": 4,
  "nbformat_minor": 0,
  "metadata": {
    "colab": {
      "name": "DEEP_HW3_Q2.ipynb",
      "provenance": [],
      "collapsed_sections": [],
      "toc_visible": true
    },
    "kernelspec": {
      "name": "python3",
      "display_name": "Python 3"
    },
    "language_info": {
      "name": "python"
    }
  },
  "cells": [
    {
      "cell_type": "code",
      "execution_count": null,
      "metadata": {
        "id": "pN1wEKsXrAj9"
      },
      "outputs": [],
      "source": [
        "import numpy as np\n",
        "import imageio\n",
        "from google.colab import drive\n",
        "import matplotlib.pyplot as plt\n",
        "import cv2\n",
        "from keras.preprocessing.image import img_to_array"
      ]
    },
    {
      "cell_type": "code",
      "source": [
        "drive.mount('/content/drive')\n",
        "%cd /content/drive/My Drive/Images_Q2/"
      ],
      "metadata": {
        "colab": {
          "base_uri": "https://localhost:8080/"
        },
        "id": "OMMs5Ymvrn6a",
        "outputId": "37c1b93e-3965-42b9-e69c-e66e0feb0473"
      },
      "execution_count": null,
      "outputs": [
        {
          "output_type": "stream",
          "name": "stdout",
          "text": [
            "Mounted at /content/drive\n",
            "/content/drive/My Drive/Images_Q2\n"
          ]
        }
      ]
    },
    {
      "cell_type": "markdown",
      "source": [
        "#PART1"
      ],
      "metadata": {
        "id": "XMSF8Dlb6s5C"
      }
    },
    {
      "cell_type": "code",
      "source": [
        "im0 = cv2.imread(\"Image_1.png\")\n",
        "im1 = cv2.imread(\"Image_2.png\")\n",
        "im2 = cv2.imread(\"Image_3.png\")"
      ],
      "metadata": {
        "id": "qs3Z_p8nrGsq"
      },
      "execution_count": null,
      "outputs": []
    },
    {
      "cell_type": "code",
      "source": [
        "#preprocessing\n",
        "im0=np.asarray(im0[:,:,0],dtype=np.int32)\n",
        "im0[im0>0]=-1\n",
        "im0[im0==0]=1\n",
        "im0=im0.reshape(35,1)\n",
        "im1=np.asarray(im1[:,:,0],dtype=np.int32)\n",
        "im1[im1>0]=-1\n",
        "im1[im1==0]=1\n",
        "im1=im1.reshape(35,1)\n",
        "im2=np.asarray(im2[:,:,0],dtype=np.int32)\n",
        "im2[im2>0]=-1\n",
        "im2[im2==0]=1\n",
        "im2=im2.reshape(35,1)"
      ],
      "metadata": {
        "id": "guTwJdx8uP4J"
      },
      "execution_count": null,
      "outputs": []
    },
    {
      "cell_type": "code",
      "source": [
        "W_hebb=im0@im0.T+im1@im1.T+im2@im2.T\n",
        "W_hebb_modif =im0@im0.T+im1@im1.T+im2@im2.T-3*np.eye(35)"
      ],
      "metadata": {
        "id": "XnOYJ1Mc0jjK"
      },
      "execution_count": null,
      "outputs": []
    },
    {
      "cell_type": "code",
      "source": [
        "plt.figure(figsize=(10, 7))\n",
        "plt.table(W_hebb, loc=\"best\", cellLoc=\"center\")\n",
        "plt.axis(False)\n",
        "plt.xticks([])\n",
        "plt.yticks([])\n",
        "plt.show()\n",
        "plt.figure(figsize=(10, 7))\n",
        "plt.table(W_hebb_modif, loc=\"best\", cellLoc=\"center\")\n",
        "plt.axis(False)\n",
        "plt.xticks([])\n",
        "plt.yticks([])\n",
        "plt.show()"
      ],
      "metadata": {
        "colab": {
          "base_uri": "https://localhost:8080/",
          "height": 901
        },
        "id": "m81sR2-f6v6S",
        "outputId": "ac556a1e-fa8d-4f44-8b2f-9cdc8e0b68a5"
      },
      "execution_count": null,
      "outputs": [
        {
          "output_type": "display_data",
          "data": {
            "text/plain": [
              "<Figure size 720x504 with 1 Axes>"
            ],
            "image/png": "[encoded data removed]"
          },
          "metadata": {}
        },
        {
          "output_type": "display_data",
          "data": {
            "text/plain": [
              "<Figure size 720x504 with 1 Axes>"
            ],
            "image/png": "[encoded data removed]"
          },
          "metadata": {}
        }
      ]
    },
    {
      "cell_type": "markdown",
      "source": [
        "#PART2"
      ],
      "metadata": {
        "id": "hyVnYCwY6ovs"
      }
    },
    {
      "cell_type": "code",
      "source": [
        "out_0=im0.T@W_hebb\n",
        "out0=2*np.heaviside(out_0,0)-1\n",
        "out_1=im1.T@W_hebb\n",
        "out1=2*np.heaviside(out_1,0)-1\n",
        "out_2=im2.T@W_hebb\n",
        "out2=2*np.heaviside(out_2,0)-1"
      ],
      "metadata": {
        "id": "cyANb1xZ236k"
      },
      "execution_count": null,
      "outputs": []
    },
    {
      "cell_type": "code",
      "source": [
        "fig, axs = plt.subplots(1, 3)\n",
        "axs[0].imshow(out0.reshape(7, 5), cmap=\"Greys\")\n",
        "axs[0].set_title(\"Output\")\n",
        "axs[1].imshow(im0.reshape(7, 5), cmap=\"Greys\")\n",
        "axs[1].set_title(\"Desired Output\")\n",
        "axs[2].imshow(im0.reshape(7, 5), cmap=\"Greys\")\n",
        "axs[2].set_title(\"Input\")\n",
        "plt.show()\n",
        "\n",
        "fig, axs = plt.subplots(1, 3)\n",
        "axs[0].imshow(out1.reshape(7, 5), cmap=\"Greys\")\n",
        "axs[0].set_title(\"Output\")\n",
        "axs[1].imshow(im1.reshape(7, 5), cmap=\"Greys\")\n",
        "axs[1].set_title(\"Desired Output\")\n",
        "axs[2].imshow(im1.reshape(7, 5), cmap=\"Greys\")\n",
        "axs[2].set_title(\"Input\")\n",
        "plt.show()\n",
        "\n",
        "fig, axs = plt.subplots(1, 3)\n",
        "axs[0].imshow(out2.reshape(7, 5), cmap=\"Greys\")\n",
        "axs[0].set_title(\"Output\")\n",
        "axs[1].imshow(im2.reshape(7, 5), cmap=\"Greys\")\n",
        "axs[1].set_title(\"Desired Output\")\n",
        "axs[2].imshow(im2.reshape(7, 5), cmap=\"Greys\")\n",
        "axs[2].set_title(\"Input\")\n",
        "plt.show()"
      ],
      "metadata": {
        "colab": {
          "base_uri": "https://localhost:8080/",
          "height": 572
        },
        "id": "b2wh0g7r3RO8",
        "outputId": "5a9dacc8-2b03-4b32-92ea-1e3b07ede1b7"
      },
      "execution_count": null,
      "outputs": [
        {
          "output_type": "display_data",
          "data": {
            "text/plain": [
              "<Figure size 432x288 with 3 Axes>"
            ],
            "image/png": "[encoded data removed]"
          },
          "metadata": {
            "needs_background": "light"
          }
        },
        {
          "output_type": "display_data",
          "data": {
            "text/plain": [
              "<Figure size 432x288 with 3 Axes>"
            ],
            "image/png": "[encoded data removed]"
          },
          "metadata": {
            "needs_background": "light"
          }
        },
        {
          "output_type": "display_data",
          "data": {
            "text/plain": [
              "<Figure size 432x288 with 3 Axes>"
            ],
            "image/png": "[encoded data removed]"
          },
          "metadata": {
            "needs_background": "light"
          }
        }
      ]
    },
    {
      "cell_type": "markdown",
      "source": [
        "#PART3"
      ],
      "metadata": {
        "id": "J6gpjflSjJQd"
      }
    },
    {
      "cell_type": "code",
      "source": [
        "noise20 = np.random.choice([-1, 1], 35, p=[0.2, 0.8])\n",
        "noise80 = np.random.choice([-1, 1], 35, p=[0.8, 0.2])\n",
        "noisy20_input1 = noise20 * np.squeeze(im0)\n",
        "noisy80_input1 = noise80 * np.squeeze(im0)\n",
        "noisy20_input2 = noise20 * np.squeeze(im1)\n",
        "noisy80_input2 = noise80 * np.squeeze(im1)\n",
        "noisy20_input3 = noise20 * np.squeeze(im2)\n",
        "noisy80_input3 = noise80 * np.squeeze(im2)\n",
        "out_1 = noisy20_input1 @ W_hebb\n",
        "out1_20 = 2 * np.heaviside(out_1, 1) - 1\n",
        "out_2 = noisy20_input2 @ W_hebb\n",
        "out2_20 = 2 * np.heaviside(out_2, 1) - 1\n",
        "out_3 = noisy20_input3 @ W_hebb\n",
        "out3_20 = 2 * np.heaviside(out_3, 1) - 1\n",
        "\n",
        "out_1 = noisy80_input1 @ W_hebb\n",
        "out1_80 = 2 * np.heaviside(out_1, 1) - 1\n",
        "out_2 = noisy80_input2 @ W_hebb\n",
        "out2_80 = 2 * np.heaviside(out_2, 1) - 1\n",
        "out_3 = noisy80_input3 @ W_hebb\n",
        "out3_80 = 2 * np.heaviside(out_3, 1) - 1"
      ],
      "metadata": {
        "id": "uDkGIonEjI1-"
      },
      "execution_count": null,
      "outputs": []
    },
    {
      "cell_type": "code",
      "source": [
        "fig, axs = plt.subplots(1, 3)\n",
        "axs[0].imshow(out1_20.reshape(7, 5), cmap=\"Greys\")\n",
        "axs[0].set_title(\"Output\")\n",
        "axs[1].imshow(im0.reshape(7, 5), cmap=\"Greys\")\n",
        "axs[1].set_title(\"Ground truth\")\n",
        "axs[2].imshow(noisy20_input1.reshape(7, 5), cmap=\"Greys\")\n",
        "axs[2].set_title(\"Input\")\n",
        "plt.suptitle('With 20% noise')\n",
        "plt.show()\n",
        "\n",
        "fig, axs = plt.subplots(1, 3)\n",
        "axs[0].imshow(out2_20.reshape(7, 5), cmap=\"Greys\")\n",
        "axs[0].set_title(\"Output\")\n",
        "axs[1].imshow(im1.reshape(7, 5), cmap=\"Greys\")\n",
        "axs[1].set_title(\"Ground truth\")\n",
        "axs[2].imshow(noisy20_input2.reshape(7, 5), cmap=\"Greys\")\n",
        "axs[2].set_title(\"Input\")\n",
        "plt.suptitle('With 20% noise')\n",
        "plt.show()\n",
        "\n",
        "fig, axs = plt.subplots(1, 3)\n",
        "axs[0].imshow(out3_20.reshape(7, 5), cmap=\"Greys\")\n",
        "axs[0].set_title(\"Output\")\n",
        "axs[1].imshow(im2.reshape(7, 5), cmap=\"Greys\")\n",
        "axs[1].set_title(\"Ground truth\")\n",
        "axs[2].imshow(noisy20_input3.reshape(7, 5), cmap=\"Greys\")\n",
        "axs[2].set_title(\"Input\")\n",
        "plt.suptitle('With 20% noise')\n",
        "plt.show()"
      ],
      "metadata": {
        "colab": {
          "base_uri": "https://localhost:8080/",
          "height": 728
        },
        "id": "E3SPjVrTlpoa",
        "outputId": "533567f0-ee1e-4a68-a096-aca2de276e7c"
      },
      "execution_count": null,
      "outputs": [
        {
          "output_type": "display_data",
          "data": {
            "text/plain": [
              "<Figure size 432x288 with 3 Axes>"
            ],
            "image/png": "[encoded data removed]"
          },
          "metadata": {
            "needs_background": "light"
          }
        },
        {
          "output_type": "display_data",
          "data": {
            "text/plain": [
              "<Figure size 432x288 with 3 Axes>"
            ],
            "image/png": "[encoded data removed]"
          },
          "metadata": {
            "needs_background": "light"
          }
        },
        {
          "output_type": "display_data",
          "data": {
            "text/plain": [
              "<Figure size 432x288 with 3 Axes>"
            ],
            "image/png": "[encoded data removed]"
          },
          "metadata": {
            "needs_background": "light"
          }
        }
      ]
    },
    {
      "cell_type": "code",
      "source": [
        "fig, axs = plt.subplots(1, 3)\n",
        "axs[0].imshow(out1_80.reshape(7, 5), cmap=\"Greys\")\n",
        "axs[0].set_title(\"Output\")\n",
        "axs[1].imshow(im0.reshape(7, 5), cmap=\"Greys\")\n",
        "axs[1].set_title(\"Ground truth\")\n",
        "axs[2].imshow(noisy80_input1.reshape(7, 5), cmap=\"Greys\")\n",
        "axs[2].set_title(\"Input\")\n",
        "plt.suptitle('With 80% noise')\n",
        "plt.show()\n",
        "\n",
        "fig, axs = plt.subplots(1, 3)\n",
        "axs[0].imshow(out2_80.reshape(7, 5), cmap=\"Greys\")\n",
        "axs[0].set_title(\"Output\")\n",
        "axs[1].imshow(im1.reshape(7, 5), cmap=\"Greys\")\n",
        "axs[1].set_title(\"Ground truth\")\n",
        "axs[2].imshow(noisy80_input2.reshape(7, 5), cmap=\"Greys\")\n",
        "axs[2].set_title(\"Input\")\n",
        "plt.suptitle('With 80% noise')\n",
        "plt.show()\n",
        "\n",
        "fig, axs = plt.subplots(1, 3)\n",
        "axs[0].imshow(out3_80.reshape(7, 5), cmap=\"Greys\")\n",
        "axs[0].set_title(\"Output\")\n",
        "axs[1].imshow(im2.reshape(7, 5), cmap=\"Greys\")\n",
        "axs[1].set_title(\"Ground truth\")\n",
        "axs[2].imshow(noisy80_input3.reshape(7, 5), cmap=\"Greys\")\n",
        "axs[2].set_title(\"Input\")\n",
        "plt.suptitle('With 80% noise')\n",
        "plt.show()"
      ],
      "metadata": {
        "colab": {
          "base_uri": "https://localhost:8080/",
          "height": 728
        },
        "id": "RdLKJ08LogIA",
        "outputId": "0a1ba6a4-33bc-432c-a7ae-cd00580840dc"
      },
      "execution_count": null,
      "outputs": [
        {
          "output_type": "display_data",
          "data": {
            "text/plain": [
              "<Figure size 432x288 with 3 Axes>"
            ],
            "image/png": "[encoded data removed]"
          },
          "metadata": {
            "needs_background": "light"
          }
        },
        {
          "output_type": "display_data",
          "data": {
            "text/plain": [
              "<Figure size 432x288 with 3 Axes>"
            ],
            "image/png": "[encoded data removed]"
          },
          "metadata": {
            "needs_background": "light"
          }
        },
        {
          "output_type": "display_data",
          "data": {
            "text/plain": [
              "<Figure size 432x288 with 3 Axes>"
            ],
            "image/png": "[encoded data removed]"
          },
          "metadata": {
            "needs_background": "light"
          }
        }
      ]
    },
    {
      "cell_type": "code",
      "source": [
        "true_out1_20_redu = 0\n",
        "true_out2_20_redu = 0\n",
        "true_out3_20_redu = 0\n",
        "true_out1_80_redu = 0\n",
        "true_out2_80_redu = 0\n",
        "true_out3_80_redu = 0\n",
        "for i in range(100):\n",
        "    noise20 = np.random.choice([-1, 1], 35, p=[0.2, 0.8])\n",
        "    noise80 = np.random.choice([-1, 1], 35, p=[0.8, 0.2])\n",
        "    noisy20_input1 = noise20 * np.squeeze(im0)\n",
        "    noisy80_input1 = noise80 * np.squeeze(im0)\n",
        "    noisy20_input2 = noise20 * np.squeeze(im1)\n",
        "    noisy80_input2 = noise80 * np.squeeze(im1)\n",
        "    noisy20_input3 = noise20 * np.squeeze(im2)\n",
        "    noisy80_input3 = noise80 * np.squeeze(im2)\n",
        "    out_1_redu = noisy20_input1 @ W_hebb\n",
        "    out1_20_redu = 2 * np.heaviside(out_1_redu, 1) - 1\n",
        "    out_2_redu = noisy20_input2 @ W_hebb\n",
        "    out2_20_redu = 2 * np.heaviside(out_2_redu, 1) - 1\n",
        "    out_3_redu = noisy20_input3 @ W_hebb\n",
        "    out3_20_redu = 2 * np.heaviside(out_3_redu, 1) - 1\n",
        "\n",
        "    out_1_redu = noisy80_input1 @ W_hebb\n",
        "    out1_80_redu = 2 * np.heaviside(out_1_redu, 1) - 1\n",
        "    out_2_redu = noisy80_input2 @ W_hebb\n",
        "    out2_80_redu = 2 * np.heaviside(out_2_redu, 1) - 1\n",
        "    out_3_redu = noisy80_input3 @ W_hebb\n",
        "    out3_80_redu = 2 * np.heaviside(out_3_redu, 1) - 1\n",
        "    if (out1_20_redu == np.squeeze(im0)).all():\n",
        "        true_out1_20_redu = true_out1_20_redu + 1\n",
        "    if (out2_20_redu == np.squeeze(im1)).all():\n",
        "        true_out2_20_redu = true_out2_20_redu + 1\n",
        "    if (out3_20_redu == np.squeeze(im2)).all():\n",
        "        true_out3_20_redu = true_out3_20_redu + 1\n",
        "\n",
        "    if (out1_80_redu == np.squeeze(im0)).all():\n",
        "        true_out1_80_redu = true_out1_80_redu + 1\n",
        "    if (out2_80_redu == np.squeeze(im1)).all():\n",
        "        true_out2_80_redu = true_out2_80_redu + 1\n",
        "    if (out3_80_redu == np.squeeze(im2)).all():\n",
        "        true_out3_80_redu = true_out3_80_redu + 1\n",
        "\n",
        "print(\"Our model gives the correct output for input0 with 20% noise with accuracy =\",true_out1_20_redu,\"%\")\n",
        "print(\"Our model gives the correct output for input1 with 20% noise with accuracy =\",true_out2_20_redu,\"%\")\n",
        "print(\"Our model gives the correct output for input2 with 20% noise with accuracy =\",true_out3_20_redu,\"%\")\n",
        "print(\"Our model gives the correct output for input0 with 80% noise with accuracy =\",true_out1_80_redu,\"%\")\n",
        "print(\"Our model gives the correct output for input1 with 80% noise with accuracy =\",true_out2_80_redu,\"%\")\n",
        "print(\"Our model gives the correct output for input2 with 80% noise with accuracy =\",true_out3_80_redu,\"%\")"
      ],
      "metadata": {
        "colab": {
          "base_uri": "https://localhost:8080/"
        },
        "id": "GVjhT-_k91re",
        "outputId": "e2c627df-f236-492a-dc0c-618f2aa43cea"
      },
      "execution_count": null,
      "outputs": [
        {
          "output_type": "stream",
          "name": "stdout",
          "text": [
            "Our model gives the correct output for input0 with 20% noise with accuracy = 90 %\n",
            "Our model gives the correct output for input1 with 20% noise with accuracy = 95 %\n",
            "Our model gives the correct output for input2 with 20% noise with accuracy = 88 %\n",
            "Our model gives the correct output for input0 with 80% noise with accuracy = 0 %\n",
            "Our model gives the correct output for input1 with 80% noise with accuracy = 0 %\n",
            "Our model gives the correct output for input2 with 80% noise with accuracy = 0 %\n"
          ]
        }
      ]
    },
    {
      "cell_type": "markdown",
      "source": [
        "#PART4"
      ],
      "metadata": {
        "id": "BzLY0JjhuWEn"
      }
    },
    {
      "cell_type": "code",
      "source": [
        "noise20 = np.random.choice([0, 1], 35, p=[0.2, 0.8])\n",
        "noise80 = np.random.choice([0, 1], 35, p=[0.8, 0.2])\n",
        "noisy20_input1 = noise20 * np.squeeze(im0)\n",
        "noisy80_input1 = noise80 * np.squeeze(im0)\n",
        "noisy20_input2 = noise20 * np.squeeze(im1)\n",
        "noisy80_input2 = noise80 * np.squeeze(im1)\n",
        "noisy20_input3 = noise20 * np.squeeze(im2)\n",
        "noisy80_input3 = noise80 * np.squeeze(im2)\n",
        "out_1 = noisy20_input1 @ W_hebb\n",
        "out1_20 = 2 * np.heaviside(out_1, 1) - 1\n",
        "out_2 = noisy20_input2 @ W_hebb\n",
        "out2_20 = 2 * np.heaviside(out_2, 1) - 1\n",
        "out_3 = noisy20_input3 @ W_hebb\n",
        "out3_20 = 2 * np.heaviside(out_3, 1) - 1\n",
        "\n",
        "out_1 = noisy80_input1 @ W_hebb\n",
        "out1_80 = 2 * np.heaviside(out_1, 1) - 1\n",
        "out_2 = noisy80_input2 @ W_hebb\n",
        "out2_80 = 2 * np.heaviside(out_2, 1) - 1\n",
        "out_3 = noisy80_input3 @ W_hebb\n",
        "out3_80 = 2 * np.heaviside(out_3, 1) - 1"
      ],
      "metadata": {
        "id": "JxY7ikSauVI_"
      },
      "execution_count": null,
      "outputs": []
    },
    {
      "cell_type": "code",
      "source": [
        "fig, axs = plt.subplots(1, 3)\n",
        "axs[0].imshow(out1_20.reshape(7, 5), cmap=\"Greys\")\n",
        "axs[0].set_title(\"Output\")\n",
        "axs[1].imshow(im0.reshape(7, 5), cmap=\"Greys\")\n",
        "axs[1].set_title(\"Ground truth\")\n",
        "axs[2].imshow(noisy20_input1.reshape(7, 5), cmap=\"Greys\")\n",
        "axs[2].set_title(\"Input\")\n",
        "plt.suptitle('With 20% noise')\n",
        "plt.show()\n",
        "\n",
        "fig, axs = plt.subplots(1, 3)\n",
        "axs[0].imshow(out2_20.reshape(7, 5), cmap=\"Greys\")\n",
        "axs[0].set_title(\"Output\")\n",
        "axs[1].imshow(im1.reshape(7, 5), cmap=\"Greys\")\n",
        "axs[1].set_title(\"Ground truth\")\n",
        "axs[2].imshow(noisy20_input2.reshape(7, 5), cmap=\"Greys\")\n",
        "axs[2].set_title(\"Input\")\n",
        "plt.suptitle('With 20% noise')\n",
        "plt.show()\n",
        "\n",
        "fig, axs = plt.subplots(1, 3)\n",
        "axs[0].imshow(out3_20.reshape(7, 5), cmap=\"Greys\")\n",
        "axs[0].set_title(\"Output\")\n",
        "axs[1].imshow(im2.reshape(7, 5), cmap=\"Greys\")\n",
        "axs[1].set_title(\"Ground truth\")\n",
        "axs[2].imshow(noisy20_input3.reshape(7, 5), cmap=\"Greys\")\n",
        "axs[2].set_title(\"Input\")\n",
        "plt.suptitle('With 20% noise')\n",
        "plt.show()"
      ],
      "metadata": {
        "colab": {
          "base_uri": "https://localhost:8080/",
          "height": 728
        },
        "id": "_D5TGBqnulJE",
        "outputId": "f8566411-6f5d-4222-8e5b-0b6b62b96746"
      },
      "execution_count": null,
      "outputs": [
        {
          "output_type": "display_data",
          "data": {
            "text/plain": [
              "<Figure size 432x288 with 3 Axes>"
            ],
            "image/png": "[encoded data removed]"
          },
          "metadata": {
            "needs_background": "light"
          }
        },
        {
          "output_type": "display_data",
          "data": {
            "text/plain": [
              "<Figure size 432x288 with 3 Axes>"
            ],
            "image/png": "[encoded data removed]"
          },
          "metadata": {
            "needs_background": "light"
          }
        },
        {
          "output_type": "display_data",
          "data": {
            "text/plain": [
              "<Figure size 432x288 with 3 Axes>"
            ],
            "image/png": "[encoded data removed]"
          },
          "metadata": {
            "needs_background": "light"
          }
        }
      ]
    },
    {
      "cell_type": "code",
      "source": [
        "fig, axs = plt.subplots(1, 3)\n",
        "axs[0].imshow(out1_80.reshape(7, 5), cmap=\"Greys\")\n",
        "axs[0].set_title(\"Output\")\n",
        "axs[1].imshow(im0.reshape(7, 5), cmap=\"Greys\")\n",
        "axs[1].set_title(\"Ground truth\")\n",
        "axs[2].imshow(noisy80_input1.reshape(7, 5), cmap=\"Greys\")\n",
        "axs[2].set_title(\"Input\")\n",
        "plt.suptitle('With 80% noise')\n",
        "plt.show()\n",
        "\n",
        "fig, axs = plt.subplots(1, 3)\n",
        "axs[0].imshow(out2_80.reshape(7, 5), cmap=\"Greys\")\n",
        "axs[0].set_title(\"Output\")\n",
        "axs[1].imshow(im1.reshape(7, 5), cmap=\"Greys\")\n",
        "axs[1].set_title(\"Ground truth\")\n",
        "axs[2].imshow(noisy80_input2.reshape(7, 5), cmap=\"Greys\")\n",
        "axs[2].set_title(\"Input\")\n",
        "plt.suptitle('With 80% noise')\n",
        "plt.show()\n",
        "\n",
        "fig, axs = plt.subplots(1, 3)\n",
        "axs[0].imshow(out3_80.reshape(7, 5), cmap=\"Greys\")\n",
        "axs[0].set_title(\"Output\")\n",
        "axs[1].imshow(im2.reshape(7, 5), cmap=\"Greys\")\n",
        "axs[1].set_title(\"Ground truth\")\n",
        "axs[2].imshow(noisy80_input3.reshape(7, 5), cmap=\"Greys\")\n",
        "axs[2].set_title(\"Input\")\n",
        "plt.suptitle('With 80% noise')\n",
        "plt.show()"
      ],
      "metadata": {
        "colab": {
          "base_uri": "https://localhost:8080/",
          "height": 728
        },
        "id": "s-N-Bh5qusuB",
        "outputId": "01654ca9-e106-4281-a74e-d8ce0af99433"
      },
      "execution_count": null,
      "outputs": [
        {
          "output_type": "display_data",
          "data": {
            "text/plain": [
              "<Figure size 432x288 with 3 Axes>"
            ],
            "image/png": "[encoded data removed]"
          },
          "metadata": {
            "needs_background": "light"
          }
        },
        {
          "output_type": "display_data",
          "data": {
            "text/plain": [
              "<Figure size 432x288 with 3 Axes>"
            ],
            "image/png": "[encoded data removed]"
          },
          "metadata": {
            "needs_background": "light"
          }
        },
        {
          "output_type": "display_data",
          "data": {
            "text/plain": [
              "<Figure size 432x288 with 3 Axes>"
            ],
            "image/png": "[encoded data removed]"
          },
          "metadata": {
            "needs_background": "light"
          }
        }
      ]
    },
    {
      "cell_type": "markdown",
      "source": [
        "#PART5"
      ],
      "metadata": {
        "id": "ZslkX38B3THL"
      }
    },
    {
      "cell_type": "code",
      "source": [
        "%cd /content/drive/My Drive/Extra/"
      ],
      "metadata": {
        "colab": {
          "base_uri": "https://localhost:8080/"
        },
        "id": "P9xMW_XfCbfR",
        "outputId": "e1143d0e-34f9-44f5-f9a1-87ea091036d2"
      },
      "execution_count": null,
      "outputs": [
        {
          "output_type": "stream",
          "name": "stdout",
          "text": [
            "/content/drive/My Drive/Extra\n"
          ]
        }
      ]
    },
    {
      "cell_type": "code",
      "source": [
        "im0 = cv2.imread(\"Image_1.png\")\n",
        "im1 = cv2.imread(\"Image_2.png\")\n",
        "im2 = cv2.imread(\"Image_3.png\")\n",
        "im3 = cv2.imread(\"Image_4.png\")\n",
        "im4 = cv2.imread(\"Image_5.png\")\n",
        "im5 = cv2.imread(\"Image_6.png\")\n",
        "im6 = cv2.imread(\"Image_7.png\")\n",
        "im7 = cv2.imread(\"Image_8.png\")\n",
        "im8 = cv2.imread(\"Image_9.png\")\n",
        "im9 = cv2.imread(\"Image_10.png\")"
      ],
      "metadata": {
        "id": "3Ly3Eibh3U4K"
      },
      "execution_count": null,
      "outputs": []
    },
    {
      "cell_type": "code",
      "source": [
        "#preprocessing\n",
        "im0=np.asarray(im0[:,:,0],dtype=np.int32)\n",
        "im0[im0>0]=-1\n",
        "im0[im0==0]=1\n",
        "im0=im0.reshape(35,1)\n",
        "im1=np.asarray(im1[:,:,0],dtype=np.int32)\n",
        "im1[im1>0]=-1\n",
        "im1[im1==0]=1\n",
        "im1=im1.reshape(35,1)\n",
        "im2=np.asarray(im2[:,:,0],dtype=np.int32)\n",
        "im2[im2>0]=-1\n",
        "im2[im2==0]=1\n",
        "im2=im2.reshape(35,1)\n",
        "im3=np.asarray(im3[:,:,0],dtype=np.int32)\n",
        "im3[im3>0]=-1\n",
        "im3[im3==0]=1\n",
        "im3=im3.reshape(35,1)\n",
        "im4=np.asarray(im4[:,:,0],dtype=np.int32)\n",
        "im4[im4>0]=-1\n",
        "im4[im4==0]=1\n",
        "im4=im4.reshape(35,1)\n",
        "im5=np.asarray(im5[:,:,0],dtype=np.int32)\n",
        "im5[im5>0]=-1\n",
        "im5[im5==0]=1\n",
        "im5=im5.reshape(35,1)\n",
        "im6=np.asarray(im6[:,:,0],dtype=np.int32)\n",
        "im6[im6>0]=-1\n",
        "im6[im6==0]=1\n",
        "im6=im6.reshape(35,1)\n",
        "im7=np.asarray(im7[:,:,0],dtype=np.int32)\n",
        "im7[im7>0]=-1\n",
        "im7[im7==0]=1\n",
        "im7=im7.reshape(35,1)\n",
        "im8=np.asarray(im8[:,:,0],dtype=np.int32)\n",
        "im8[im8>0]=-1\n",
        "im8[im8==0]=1\n",
        "im8=im8.reshape(35,1)\n",
        "im9=np.asarray(im9[:,:,0],dtype=np.int32)\n",
        "im9[im9>0]=-1\n",
        "im9[im9==0]=1\n",
        "im9=im9.reshape(35,1)"
      ],
      "metadata": {
        "id": "14jW1gfzCwUX"
      },
      "execution_count": null,
      "outputs": []
    },
    {
      "cell_type": "code",
      "source": [
        "W_hebb=im0@im0.T+im1@im1.T+im2@im2.T+im2@im2.T+im3@im3.T+im4@im4.T+im5@im5.T+im6@im6.T+im7@im7.T+im8@im8.T+im9@im9.T\n",
        "W_hebb_modif =im0@im0.T+im1@im1.T+im2@im2.T-3*np.eye(35)"
      ],
      "metadata": {
        "id": "bvPIGdLuD-VR"
      },
      "execution_count": null,
      "outputs": []
    },
    {
      "cell_type": "code",
      "source": [
        "T=np.squeeze(np.asarray([im0,im1,im2,im3,im4,im5,im6,im7,im8,im9])).T\n",
        "P=T\n",
        "W = T@np.linalg.pinv(P)"
      ],
      "metadata": {
        "id": "pQbhOrQJDcUp"
      },
      "execution_count": null,
      "outputs": []
    },
    {
      "cell_type": "code",
      "source": [
        "out_0=im0.T@W_hebb\n",
        "out0=2*np.heaviside(out_0,0)-1"
      ],
      "metadata": {
        "id": "WeARQWsPFu9i"
      },
      "execution_count": null,
      "outputs": []
    },
    {
      "cell_type": "code",
      "source": [
        "fig,ax =plt.subplots(1,2)\n",
        "ax[0].imshow(out0.reshape(7,5),cmap=\"Greys\")\n",
        "ax[1].imshow(im0.reshape(7,5),cmap=\"Greys\")\n",
        "ax[0].set_title(\"Output\")\n",
        "ax[1].set_title(\"Input\")"
      ],
      "metadata": {
        "colab": {
          "base_uri": "https://localhost:8080/",
          "height": 296
        },
        "id": "g1whW1X8GLTl",
        "outputId": "9e20f0a9-a11c-4f03-f292-e4fc53562619"
      },
      "execution_count": null,
      "outputs": [
        {
          "output_type": "execute_result",
          "data": {
            "text/plain": [
              "Text(0.5, 1.0, 'Input')"
            ]
          },
          "metadata": {},
          "execution_count": 48
        },
        {
          "output_type": "display_data",
          "data": {
            "text/plain": [
              "<Figure size 432x288 with 2 Axes>"
            ],
            "image/png": "[encoded data removed]"
          },
          "metadata": {
            "needs_background": "light"
          }
        }
      ]
    },
    {
      "cell_type": "code",
      "source": [
        "out_0=im0.T@W\n",
        "out0=2*np.heaviside(out_0,0)-1\n",
        "out_1=im1.T@W\n",
        "out1=2*np.heaviside(out_1,0)-1\n",
        "out_2=im2.T@W\n",
        "out2=2*np.heaviside(out_2,0)-1\n",
        "out_3=im3.T@W\n",
        "out3=2*np.heaviside(out_3,0)-1\n",
        "out_4=im4.T@W\n",
        "out4=2*np.heaviside(out_4,0)-1\n",
        "out_5=im5.T@W\n",
        "out5=2*np.heaviside(out_5,0)-1\n",
        "out_6=im6.T@W\n",
        "out6=2*np.heaviside(out_6,0)-1\n",
        "out_7=im7.T@W\n",
        "out7=2*np.heaviside(out_7,0)-1\n",
        "out_8=im8.T@W\n",
        "out8=2*np.heaviside(out_8,0)-1\n",
        "out_9=im9.T@W\n",
        "out9=2*np.heaviside(out_9,0)-1"
      ],
      "metadata": {
        "id": "V-EP1i91Fbi0"
      },
      "execution_count": null,
      "outputs": []
    },
    {
      "cell_type": "code",
      "source": [
        "noise20 = np.random.choice([-1, 1], 35, p=[0.2, 0.8])\n",
        "noise80 = np.random.choice([-1, 1], 35, p=[0.8, 0.2])\n",
        "noisy20_input1 = noise20 * np.squeeze(im0)\n",
        "noisy80_input1 = noise80 * np.squeeze(im0)\n",
        "noisy20_input2 = noise20 * np.squeeze(im1)\n",
        "noisy80_input2 = noise80 * np.squeeze(im1)\n",
        "noisy20_input3 = noise20 * np.squeeze(im2)\n",
        "noisy80_input3 = noise80 * np.squeeze(im2)\n",
        "noisy20_input4 = noise20 * np.squeeze(im3)\n",
        "noisy80_input4 = noise80 * np.squeeze(im3)\n",
        "noisy20_input5 = noise20 * np.squeeze(im4)\n",
        "noisy80_input5 = noise80 * np.squeeze(im4)\n",
        "noisy20_input6 = noise20 * np.squeeze(im5)\n",
        "noisy80_input6 = noise80 * np.squeeze(im5)\n",
        "noisy20_input7 = noise20 * np.squeeze(im6)\n",
        "noisy80_input7 = noise80 * np.squeeze(im6)\n",
        "noisy20_input8 = noise20 * np.squeeze(im7)\n",
        "noisy80_input8 = noise80 * np.squeeze(im7)\n",
        "noisy20_input9 = noise20 * np.squeeze(im8)\n",
        "noisy80_input9 = noise80 * np.squeeze(im8)\n",
        "noisy20_input10 = noise20 * np.squeeze(im9)\n",
        "noisy80_input10 = noise80 * np.squeeze(im9)\n",
        "\n",
        "out_1 = noisy20_input1 @ W\n",
        "out1_20 = 2 * np.heaviside(out_1, 1) - 1\n",
        "out_2 = noisy20_input2 @ W\n",
        "out2_20 = 2 * np.heaviside(out_2, 1) - 1\n",
        "out_3 = noisy20_input3 @ W\n",
        "out3_20 = 2 * np.heaviside(out_3, 1) - 1\n",
        "out_4 = noisy20_input3 @ W\n",
        "out4_20 = 2 * np.heaviside(out_4, 1) - 1\n",
        "out_5 = noisy20_input3 @ W\n",
        "out5_20 = 2 * np.heaviside(out_5, 1) - 1\n",
        "out_6 = noisy20_input3 @ W\n",
        "out6_20 = 2 * np.heaviside(out_6, 1) - 1\n",
        "out_7 = noisy20_input3 @ W\n",
        "out7_20 = 2 * np.heaviside(out_7, 1) - 1\n",
        "out_8 = noisy20_input3 @ W\n",
        "out8_20 = 2 * np.heaviside(out_8, 1) - 1\n",
        "out_9 = noisy20_input3 @ W\n",
        "out9_20 = 2 * np.heaviside(out_9, 1) - 1\n",
        "out_10 = noisy20_input3 @ W\n",
        "out10_20 = 2 * np.heaviside(out_10, 1) - 1\n",
        "\n",
        "out_1 = noisy80_input1 @ W\n",
        "out1_80 = 2 * np.heaviside(out_1, 1) - 1\n",
        "out_2 = noisy80_input2 @ W\n",
        "out2_80 = 2 * np.heaviside(out_2, 1) - 1\n",
        "out_3 = noisy80_input3 @ W\n",
        "out3_80 = 2 * np.heaviside(out_3, 1) - 1\n",
        "out_4 = noisy80_input3 @ W\n",
        "out4_80 = 2 * np.heaviside(out_4, 1) - 1\n",
        "out_5 = noisy80_input3 @ W\n",
        "out5_80 = 2 * np.heaviside(out_5, 1) - 1\n",
        "out_6 = noisy80_input3 @ W\n",
        "out6_80 = 2 * np.heaviside(out_6, 1) - 1\n",
        "out_7 = noisy80_input3 @ W\n",
        "out7_80 = 2 * np.heaviside(out_7, 1) - 1\n",
        "out_8 = noisy80_input3 @ W\n",
        "out8_80 = 2 * np.heaviside(out_8, 1) - 1\n",
        "out_9 = noisy80_input3 @ W\n",
        "out9_80 = 2 * np.heaviside(out_9, 1) - 1\n",
        "out_10 = noisy80_input3 @ W\n",
        "out10_80 = 2 * np.heaviside(out_10, 1) - 1"
      ],
      "metadata": {
        "id": "cYMekN-dHoT_"
      },
      "execution_count": null,
      "outputs": []
    },
    {
      "cell_type": "code",
      "source": [
        "fig, axs = plt.subplots(1, 3)\n",
        "axs[0].imshow(out1_20.reshape(7, 5), cmap=\"Greys\")\n",
        "axs[0].set_title(\"Output\")\n",
        "axs[1].imshow(im0.reshape(7, 5), cmap=\"Greys\")\n",
        "axs[1].set_title(\"Ground truth\")\n",
        "axs[2].imshow(noisy20_input1.reshape(7, 5), cmap=\"Greys\")\n",
        "axs[2].set_title(\"Input\")\n",
        "plt.suptitle('With 20% noise')\n",
        "plt.show()\n",
        "\n",
        "fig, axs = plt.subplots(1, 3)\n",
        "axs[0].imshow(out2_20.reshape(7, 5), cmap=\"Greys\")\n",
        "axs[0].set_title(\"Output\")\n",
        "axs[1].imshow(im1.reshape(7, 5), cmap=\"Greys\")\n",
        "axs[1].set_title(\"Ground truth\")\n",
        "axs[2].imshow(noisy20_input2.reshape(7, 5), cmap=\"Greys\")\n",
        "axs[2].set_title(\"Input\")\n",
        "plt.suptitle('With 20% noise')\n",
        "plt.show()\n",
        "\n",
        "fig, axs = plt.subplots(1, 3)\n",
        "axs[0].imshow(out9_20.reshape(7, 5), cmap=\"Greys\")\n",
        "axs[0].set_title(\"Output\")\n",
        "axs[1].imshow(im8.reshape(7, 5), cmap=\"Greys\")\n",
        "axs[1].set_title(\"Ground truth\")\n",
        "axs[2].imshow(noisy20_input9.reshape(7, 5), cmap=\"Greys\")\n",
        "axs[2].set_title(\"Input\")\n",
        "plt.suptitle('With 20% noise')\n",
        "plt.show()\n",
        "\n",
        "fig, axs = plt.subplots(1, 3)\n",
        "axs[0].imshow(out1_80.reshape(7, 5), cmap=\"Greys\")\n",
        "axs[0].set_title(\"Output\")\n",
        "axs[1].imshow(im0.reshape(7, 5), cmap=\"Greys\")\n",
        "axs[1].set_title(\"Ground truth\")\n",
        "axs[2].imshow(noisy80_input1.reshape(7, 5), cmap=\"Greys\")\n",
        "axs[2].set_title(\"Input\")\n",
        "plt.suptitle('With 80% noise')\n",
        "plt.show()\n",
        "\n",
        "fig, axs = plt.subplots(1, 3)\n",
        "axs[0].imshow(out2_80.reshape(7, 5), cmap=\"Greys\")\n",
        "axs[0].set_title(\"Output\")\n",
        "axs[1].imshow(im1.reshape(7, 5), cmap=\"Greys\")\n",
        "axs[1].set_title(\"Ground truth\")\n",
        "axs[2].imshow(noisy80_input2.reshape(7, 5), cmap=\"Greys\")\n",
        "axs[2].set_title(\"Input\")\n",
        "plt.suptitle('With 80% noise')\n",
        "plt.show()\n",
        "\n",
        "fig, axs = plt.subplots(1, 3)\n",
        "axs[0].imshow(out9_80.reshape(7, 5), cmap=\"Greys\")\n",
        "axs[0].set_title(\"Output\")\n",
        "axs[1].imshow(im8.reshape(7, 5), cmap=\"Greys\")\n",
        "axs[1].set_title(\"Ground truth\")\n",
        "axs[2].imshow(noisy80_input9.reshape(7, 5), cmap=\"Greys\")\n",
        "axs[2].set_title(\"Input\")\n",
        "plt.suptitle('With 80% noise')\n",
        "plt.show()"
      ],
      "metadata": {
        "colab": {
          "base_uri": "https://localhost:8080/",
          "height": 1000
        },
        "id": "08HlfOHRJNyo",
        "outputId": "c046b04b-df0a-4cac-8985-5d4c86818b7c"
      },
      "execution_count": null,
      "outputs": [
        {
          "output_type": "display_data",
          "data": {
            "text/plain": [
              "<Figure size 432x288 with 3 Axes>"
            ],
            "image/png": "[encoded data removed]"
          },
          "metadata": {
            "needs_background": "light"
          }
        },
        {
          "output_type": "display_data",
          "data": {
            "text/plain": [
              "<Figure size 432x288 with 3 Axes>"
            ],
            "image/png": "[encoded data removed]"
          },
          "metadata": {
            "needs_background": "light"
          }
        },
        {
          "output_type": "display_data",
          "data": {
            "text/plain": [
              "<Figure size 432x288 with 3 Axes>"
            ],
            "image/png": "[encoded data removed]"
          },
          "metadata": {
            "needs_background": "light"
          }
        },
        {
          "output_type": "display_data",
          "data": {
            "text/plain": [
              "<Figure size 432x288 with 3 Axes>"
            ],
            "image/png": "[encoded data removed]"
          },
          "metadata": {
            "needs_background": "light"
          }
        },
        {
          "output_type": "display_data",
          "data": {
            "text/plain": [
              "<Figure size 432x288 with 3 Axes>"
            ],
            "image/png": "[encoded data removed]"
          },
          "metadata": {
            "needs_background": "light"
          }
        },
        {
          "output_type": "display_data",
          "data": {
            "text/plain": [
              "<Figure size 432x288 with 3 Axes>"
            ],
            "image/png": "[encoded data removed]"
          },
          "metadata": {
            "needs_background": "light"
          }
        }
      ]
    }
  ]
}